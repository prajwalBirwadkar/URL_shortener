{
 "cells": [
  {
   "cell_type": "code",
   "execution_count": 11,
   "id": "a42a6bfc",
   "metadata": {},
   "outputs": [],
   "source": [
    "\n",
    "import random\n",
    "import string\n",
    "\n",
    "class ShortURLFinal:\n",
    "    \n",
    "    URLPrefix = \"https://www.shortURL.com/\"; # class-variable\n",
    "    \n",
    "    def __init__(self): # constructor; not must, but, good to have;  initialize all attributes here\n",
    "        self.d=dict();\n",
    "\n",
    "    # given a long URL, get a short URL\n",
    "    def getShortURL(self, longURL): # first argument to all methods is \"self\" => this object\n",
    "        \n",
    "        l = random.randint(6,10);# length = random value in 6-10\n",
    "        \n",
    "\n",
    "        # generate random characters into a string of length l\n",
    "        chars = string.ascii_lowercase\n",
    "        shortURL = ''.join(random.choice(chars) for i in range(l))\n",
    "        \n",
    "\n",
    "        # check if this string is already present in dict d\n",
    "        if shortURL in self.d:\n",
    "            return getShortURL(longURL);\n",
    "        else:\n",
    "            self.d[shortURL] = longURL;\n",
    "\n",
    "        \n",
    "        r = self.URLPrefix + shortURL\n",
    "        return r;\n",
    "\n",
    "    def getLongURL(self, shortURL):\n",
    "\n",
    "      \n",
    "        k = shortURL[22:];\n",
    "        \n",
    "\n",
    "        if k in self.d:\n",
    "            return self.d[k];\n",
    "        else:\n",
    "            return None;\n"
   ]
  },
  {
   "cell_type": "code",
   "execution_count": 12,
   "id": "d42f16d9",
   "metadata": {},
   "outputs": [
    {
     "name": "stdout",
     "output_type": "stream",
     "text": [
      "{}\n"
     ]
    }
   ],
   "source": [
    "m2 = ShortURLFinal(); # base-class constructor is executed\n",
    "\n",
    "print(m2.d)"
   ]
  },
  {
   "cell_type": "code",
   "execution_count": 13,
   "id": "c3408979",
   "metadata": {},
   "outputs": [
    {
     "name": "stdout",
     "output_type": "stream",
     "text": [
      "https://www.shortURL.com/zwhgnv\n"
     ]
    }
   ],
   "source": [
    "print(m2.getShortURL(\"https://github.com/prajwalBirwadkar\"))"
   ]
  },
  {
   "cell_type": "code",
   "execution_count": 14,
   "id": "fcd7defc",
   "metadata": {},
   "outputs": [
    {
     "name": "stdout",
     "output_type": "stream",
     "text": [
      "None\n"
     ]
    }
   ],
   "source": [
    "print(m2.getLongURL(\"https://www.shortURL.com/zwhgnv\"))"
   ]
  },
  {
   "cell_type": "code",
   "execution_count": null,
   "id": "214f25f4",
   "metadata": {},
   "outputs": [],
   "source": []
  }
 ],
 "metadata": {
  "kernelspec": {
   "display_name": "Python 3 (ipykernel)",
   "language": "python",
   "name": "python3"
  },
  "language_info": {
   "codemirror_mode": {
    "name": "ipython",
    "version": 3
   },
   "file_extension": ".py",
   "mimetype": "text/x-python",
   "name": "python",
   "nbconvert_exporter": "python",
   "pygments_lexer": "ipython3",
   "version": "3.9.13"
  },
  "vscode": {
   "interpreter": {
    "hash": "1de22b5c10a4fd2ab71ab1a27ac2c6aea627e637fe40a5da0fdf6aa2c663f58d"
   }
  }
 },
 "nbformat": 4,
 "nbformat_minor": 5
}
